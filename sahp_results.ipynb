{
 "cells": [
  {
   "cell_type": "code",
   "execution_count": 143,
   "metadata": {
    "ExecuteTime": {
     "end_time": "2021-06-23T05:00:17.477075Z",
     "start_time": "2021-06-23T05:00:17.459076Z"
    }
   },
   "outputs": [],
   "source": [
    "from train_functions import train_sahp\n",
    "import torch\n",
    "import pickle\n",
    "import numpy as np\n",
    "\n",
    "from utils.load_synth_data import process_loaded_sequences\n",
    "from utils.util import get_batch\n",
    "\n",
    "from train_functions.train_sahp import make_model,eval_sahp,prediction_evaluation,MaskBatch\n",
    "import seaborn as sns"
   ]
  },
  {
   "cell_type": "markdown",
   "metadata": {},
   "source": [
    "## Synth Model"
   ]
  },
  {
   "cell_type": "code",
   "execution_count": 2,
   "metadata": {
    "ExecuteTime": {
     "end_time": "2021-06-23T03:32:42.555085Z",
     "start_time": "2021-06-23T03:32:42.414873Z"
    }
   },
   "outputs": [
    {
     "data": {
      "text/plain": [
       "<All keys matched successfully>"
      ]
     },
     "execution_count": 2,
     "metadata": {},
     "output_type": "execute_result"
    }
   ],
   "source": [
    "model = train_sahp.make_model(max_sequence_length=324)\n",
    "model_dict =torch.load('saved_models/sahp-synthetic_hidden16-20210622-205430',map_location=torch.device('cpu'))\n",
    "model.load_state_dict(model_dict)"
   ]
  },
  {
   "cell_type": "code",
   "execution_count": 12,
   "metadata": {
    "ExecuteTime": {
     "end_time": "2021-06-23T03:38:14.763191Z",
     "start_time": "2021-06-23T03:38:12.753695Z"
    }
   },
   "outputs": [
    {
     "name": "stdout",
     "output_type": "stream",
     "text": [
      "max_sequence_length: 323\n"
     ]
    }
   ],
   "source": [
    "## Load Data Set\n",
    "with open('data/simulated/hawkes_synthetic_random_2d_20191130-180837.pkl', 'rb') as f:\n",
    "    loaded_hawkes_data = pickle.load(f)\n",
    "\n",
    "tmax = loaded_hawkes_data['tmax']\n",
    "\n",
    "seq_times, seq_types, seq_lengths, _ = process_loaded_sequences(loaded_hawkes_data, 2)\n",
    "\n",
    "total_sample_size = seq_times.size(0)\n",
    "train_ratio = 0.8\n",
    "train_size = int(train_ratio * total_sample_size)\n",
    "dev_ratio =0.1\n",
    "dev_size = int(dev_ratio * total_sample_size)\n",
    "## Split Traning and Test Sets\n",
    "train_seq_times = seq_times[:train_size]\n",
    "train_seq_types = seq_types[:train_size]\n",
    "train_seq_lengths = seq_lengths[:train_size]\n",
    "\n",
    "\n",
    "dev_seq_times = seq_times[train_size:train_size + dev_size]  # train_size+dev_size\n",
    "dev_seq_types = seq_types[train_size:train_size + dev_size]\n",
    "dev_seq_lengths = seq_lengths[train_size:train_size + dev_size]\n",
    "\n",
    "test_seq_times = seq_times[-dev_size:]\n",
    "test_seq_types = seq_types[-dev_size:]\n",
    "test_seq_lengths = seq_lengths[-dev_size:]\n",
    "\n",
    "\n",
    "## sequence length\n",
    "train_seq_lengths, reorder_indices_train = train_seq_lengths.sort(descending=True)\n",
    "# # Reorder by descending sequence length\n",
    "train_seq_times = train_seq_times[reorder_indices_train]\n",
    "train_seq_types = train_seq_types[reorder_indices_train]\n",
    "#\n",
    "dev_seq_lengths, reorder_indices_dev = dev_seq_lengths.sort(descending=True)\n",
    "# # Reorder by descending sequence length\n",
    "dev_seq_times = dev_seq_times[reorder_indices_dev]\n",
    "dev_seq_types = dev_seq_types[reorder_indices_dev]\n",
    "\n",
    "test_seq_lengths, reorder_indices_test = test_seq_lengths.sort(descending=True)\n",
    "# # Reorder by descending sequence length\n",
    "test_seq_times = test_seq_times[reorder_indices_test]\n",
    "test_seq_types = test_seq_types[reorder_indices_test]\n",
    "\n",
    "max_sequence_length = max(train_seq_lengths[0], dev_seq_lengths[0], test_seq_lengths[0])\n",
    "print('max_sequence_length: {}'.format(max_sequence_length))"
   ]
  },
  {
   "cell_type": "code",
   "execution_count": 50,
   "metadata": {
    "ExecuteTime": {
     "end_time": "2021-06-23T03:42:23.325051Z",
     "start_time": "2021-06-23T03:41:52.327979Z"
    }
   },
   "outputs": [
    {
     "name": "stderr",
     "output_type": "stream",
     "text": [
      "100%|████████████████████████████████████████████████████████████████████████████████| 400/400 [00:16<00:00, 23.93it/s]"
     ]
    },
    {
     "name": "stdout",
     "output_type": "stream",
     "text": [
      "rmse 17.319760118898063\n",
      "Type prediction score: 0.5575\n",
      "tensor(0.6343)\n"
     ]
    },
    {
     "name": "stderr",
     "output_type": "stream",
     "text": [
      "\n"
     ]
    }
   ],
   "source": [
    "torch.manual_seed(42)\n",
    "batch_size = 32\n",
    "test_size = test_seq_times.size(0)\n",
    "device = 'cpu'\n",
    "test_loop_range = list(range(0, test_size, batch_size))\n",
    "\n",
    "## Get test Loss\n",
    "test_event_num, epoch_test_loss = eval_sahp(batch_size, test_loop_range, test_seq_lengths, test_seq_times,\n",
    "                                            test_seq_types, model, device, 0)\n",
    "\n",
    "test_loss = epoch_test_loss/test_event_num\n",
    "\n",
    "## Get Result Metrics\n",
    "avg_rmse, types_predict_score, results = prediction_evaluation(\n",
    "    device, model, test_seq_lengths, test_seq_times, test_seq_types, test_size, tmax)\n",
    "\n",
    "print(test_loss)\n"
   ]
  },
  {
   "cell_type": "code",
   "execution_count": 133,
   "metadata": {
    "ExecuteTime": {
     "end_time": "2021-06-23T04:07:29.437874Z",
     "start_time": "2021-06-23T04:07:29.431867Z"
    }
   },
   "outputs": [],
   "source": [
    "incr_errors = ((incr_estimates - incr_reals) / +incr_reals) ** 2 \n",
    "avg_rmse = np.sqrt(np.mean(incr_errors), dtype=np.float64)\n",
    "avg_mae = np.mean(np.abs(incr_estimates - incr_reals))"
   ]
  },
  {
   "cell_type": "markdown",
   "metadata": {},
   "source": [
    "## Get Intensities"
   ]
  },
  {
   "cell_type": "code",
   "execution_count": 162,
   "metadata": {
    "ExecuteTime": {
     "end_time": "2021-06-23T05:03:13.674348Z",
     "start_time": "2021-06-23T05:03:09.813252Z"
    }
   },
   "outputs": [],
   "source": [
    "# dt_seq = test_seq_times[:, 1:] - test_seq_times[:, :-1]\n",
    "\n",
    "i_batch = 0 \n",
    "batch_onehot, batch_seq_times, batch_dt, batch_seq_types, _, _, _, batch_seq_lengths = \\\n",
    "get_batch(batch_size, i_batch, model, test_seq_lengths, test_seq_times, test_seq_types, rnn=False)\n",
    "\n",
    "batch_seq_types = batch_seq_types[:, 1:]\n",
    "\n",
    "masked_seq_types = MaskBatch(batch_seq_types, pad=model.process_dim,\n",
    "                             device=device)  # exclude the first added event\n",
    "model.forward(batch_dt, masked_seq_types.src, masked_seq_types.src_mask)\n",
    "\n",
    "\n",
    "\n",
    "cell_t = model.state_decay(model.converge_point, model.start_point, model.omega, batch_dt[:, :, None])\n",
    "intens_at_evs = model.intensity_layer(cell_t)"
   ]
  },
  {
   "cell_type": "code",
   "execution_count": 173,
   "metadata": {
    "ExecuteTime": {
     "end_time": "2021-06-23T05:11:14.967500Z",
     "start_time": "2021-06-23T05:11:14.947462Z"
    }
   },
   "outputs": [
    {
     "data": {
      "text/plain": [
       "tensor([[8.1986e+00],\n",
       "        [3.9271e+00],\n",
       "        [1.8315e+00],\n",
       "        [3.4096e-01],\n",
       "        [9.1432e-02],\n",
       "        [2.0610e+00],\n",
       "        [2.0708e+00],\n",
       "        [2.3338e+00],\n",
       "        [6.3303e-02],\n",
       "        [1.4945e-01],\n",
       "        [9.4750e-01],\n",
       "        [6.6881e-01],\n",
       "        [1.1348e-01],\n",
       "        [2.6611e-02],\n",
       "        [2.5726e-01],\n",
       "        [1.0474e+00],\n",
       "        [1.0061e-01],\n",
       "        [2.0206e-02],\n",
       "        [4.6667e-01],\n",
       "        [4.1332e-01],\n",
       "        [5.8114e-01],\n",
       "        [1.1904e-01],\n",
       "        [2.0031e-02],\n",
       "        [3.8305e-01],\n",
       "        [6.3133e-04],\n",
       "        [5.1162e-01],\n",
       "        [1.4303e-01],\n",
       "        [6.2770e-01],\n",
       "        [1.2775e-01],\n",
       "        [8.3595e-01],\n",
       "        [6.0497e-01],\n",
       "        [1.7657e+00],\n",
       "        [6.0880e-01],\n",
       "        [9.3099e-01],\n",
       "        [2.5266e-01],\n",
       "        [8.9049e-01],\n",
       "        [6.0435e-01],\n",
       "        [3.6918e-01],\n",
       "        [5.2655e-01],\n",
       "        [3.2891e-01],\n",
       "        [1.1824e-01],\n",
       "        [1.8523e-01],\n",
       "        [2.5787e-01],\n",
       "        [1.7093e-01],\n",
       "        [4.5868e-01],\n",
       "        [5.2808e-01],\n",
       "        [5.3981e-01],\n",
       "        [4.6946e-01],\n",
       "        [6.5468e-01],\n",
       "        [2.3258e-02],\n",
       "        [2.2522e-01],\n",
       "        [2.0182e-01],\n",
       "        [1.7914e-02],\n",
       "        [7.1706e-01],\n",
       "        [3.2459e-01],\n",
       "        [5.2180e-01],\n",
       "        [4.6158e-02],\n",
       "        [5.6032e-01],\n",
       "        [1.9678e+00],\n",
       "        [2.0817e+00],\n",
       "        [6.9016e-01],\n",
       "        [9.7418e-01],\n",
       "        [7.9722e-01],\n",
       "        [2.6032e+00],\n",
       "        [1.3308e-01],\n",
       "        [2.3998e-02],\n",
       "        [2.8422e+00],\n",
       "        [2.3511e-01],\n",
       "        [7.2466e-01],\n",
       "        [1.8225e+00],\n",
       "        [8.0350e-01],\n",
       "        [5.4132e-01],\n",
       "        [3.5089e-01],\n",
       "        [9.1744e-01],\n",
       "        [1.9120e-01],\n",
       "        [1.0279e-01],\n",
       "        [2.2121e-02],\n",
       "        [1.9392e-01],\n",
       "        [1.3254e-01],\n",
       "        [5.7108e-01],\n",
       "        [1.9375e-02],\n",
       "        [2.0217e-01],\n",
       "        [3.5000e-02],\n",
       "        [3.8608e-01],\n",
       "        [2.3080e-01],\n",
       "        [1.4404e-01],\n",
       "        [2.3299e-01],\n",
       "        [1.8997e+00],\n",
       "        [1.0923e-01],\n",
       "        [4.5338e-02],\n",
       "        [3.0353e-01],\n",
       "        [1.0905e-01],\n",
       "        [3.0207e-01],\n",
       "        [3.6743e-02],\n",
       "        [4.1153e-02],\n",
       "        [1.5348e-01],\n",
       "        [3.4035e-02],\n",
       "        [3.7298e-01],\n",
       "        [1.6492e-01],\n",
       "        [7.6889e-02],\n",
       "        [4.7575e-01],\n",
       "        [2.2987e-02],\n",
       "        [9.0523e-02],\n",
       "        [1.3552e-01],\n",
       "        [3.9906e-01],\n",
       "        [4.3442e-02],\n",
       "        [2.9626e-01],\n",
       "        [2.2843e-01],\n",
       "        [4.1426e-01],\n",
       "        [2.0786e-01],\n",
       "        [5.1052e-01],\n",
       "        [5.3108e-02],\n",
       "        [2.7115e-02],\n",
       "        [8.7982e-02],\n",
       "        [9.8900e-02],\n",
       "        [2.3798e-01],\n",
       "        [1.0282e-01],\n",
       "        [1.8723e-02],\n",
       "        [1.3293e-01],\n",
       "        [2.8851e-01],\n",
       "        [1.8160e-01],\n",
       "        [1.2263e+00],\n",
       "        [1.5175e-02],\n",
       "        [3.7666e-01],\n",
       "        [7.7820e-03],\n",
       "        [3.4892e-01],\n",
       "        [7.1487e-01],\n",
       "        [3.3897e-02],\n",
       "        [1.0103e-01],\n",
       "        [8.8150e-02],\n",
       "        [9.6954e-02],\n",
       "        [4.3913e-01],\n",
       "        [4.4306e-01],\n",
       "        [6.1272e-02],\n",
       "        [4.2480e-01],\n",
       "        [2.8898e-01],\n",
       "        [5.7471e-01],\n",
       "        [5.0852e-01],\n",
       "        [2.1807e-01],\n",
       "        [8.6487e-02],\n",
       "        [1.5434e+00],\n",
       "        [1.5317e-01],\n",
       "        [9.4205e-01],\n",
       "        [1.3148e+00],\n",
       "        [4.3838e-01],\n",
       "        [2.6937e-01],\n",
       "        [1.4650e-01],\n",
       "        [2.2548e-01],\n",
       "        [4.9759e-02],\n",
       "        [1.1411e-01],\n",
       "        [1.8516e-01],\n",
       "        [1.8331e-01],\n",
       "        [1.2598e-01],\n",
       "        [2.5085e-01],\n",
       "        [7.2044e-01],\n",
       "        [3.4986e-01],\n",
       "        [1.3717e-01],\n",
       "        [2.4112e-01],\n",
       "        [4.1992e-02],\n",
       "        [1.9479e-01],\n",
       "        [2.6617e-01],\n",
       "        [3.1235e-02],\n",
       "        [8.3542e-02],\n",
       "        [2.7466e-03],\n",
       "        [9.0614e-02],\n",
       "        [3.7560e-02],\n",
       "        [4.5043e-01],\n",
       "        [5.4802e-02],\n",
       "        [1.8707e-02],\n",
       "        [9.1896e-02],\n",
       "        [2.9874e-01],\n",
       "        [2.0813e-02],\n",
       "        [1.7015e-01],\n",
       "        [8.0910e-02],\n",
       "        [4.5736e-01],\n",
       "        [1.1597e-02],\n",
       "        [2.8664e-01],\n",
       "        [4.6577e-02],\n",
       "        [5.1014e-01],\n",
       "        [3.0585e-01],\n",
       "        [5.2261e-02],\n",
       "        [8.3080e-01],\n",
       "        [1.2444e-01],\n",
       "        [2.3369e-02],\n",
       "        [1.0948e-01],\n",
       "        [4.6655e-01],\n",
       "        [4.8401e-02],\n",
       "        [4.7333e-02],\n",
       "        [4.7668e-02],\n",
       "        [2.8961e-02],\n",
       "        [2.9245e-01],\n",
       "        [1.7075e-01],\n",
       "        [2.5302e-01],\n",
       "        [1.5270e-01],\n",
       "        [8.8425e-03],\n",
       "        [6.7107e-01],\n",
       "        [1.2820e-01],\n",
       "        [4.5168e-01],\n",
       "        [3.0300e+00],\n",
       "        [1.2778e+00],\n",
       "        [1.1276e-02],\n",
       "        [6.5596e+00],\n",
       "        [3.6639e+00],\n",
       "        [6.7451e-02],\n",
       "        [1.2524e-01],\n",
       "        [2.0646e-01],\n",
       "        [9.1244e-01],\n",
       "        [1.0324e+00],\n",
       "        [2.7521e-01],\n",
       "        [3.3939e-01],\n",
       "        [7.1243e-02],\n",
       "        [3.4859e-01],\n",
       "        [3.9879e-01],\n",
       "        [2.0533e-01],\n",
       "        [6.8672e-02],\n",
       "        [2.7475e-01],\n",
       "        [8.6197e-01],\n",
       "        [5.5367e-01],\n",
       "        [4.2957e-01],\n",
       "        [1.0651e-01],\n",
       "        [1.7075e-01],\n",
       "        [1.0949e+00],\n",
       "        [1.7397e-01],\n",
       "        [1.7470e+00],\n",
       "        [2.4872e-02],\n",
       "        [3.6616e-01],\n",
       "        [5.0278e-03],\n",
       "        [1.9553e-01],\n",
       "        [2.3806e-01],\n",
       "        [7.2607e-01],\n",
       "        [9.2926e-03],\n",
       "        [1.3504e+00],\n",
       "        [4.8567e-01],\n",
       "        [2.2132e+00],\n",
       "        [7.5397e-01],\n",
       "        [1.6554e-01],\n",
       "        [1.2557e-01],\n",
       "        [9.8305e-02],\n",
       "        [9.7147e-01],\n",
       "        [2.6460e+00],\n",
       "        [1.1760e+00],\n",
       "        [3.4593e-01],\n",
       "        [1.0846e+00],\n",
       "        [1.6299e+00],\n",
       "        [1.0609e-01],\n",
       "        [5.3339e-01],\n",
       "        [1.4539e-01],\n",
       "        [4.3805e-01],\n",
       "        [2.0656e-01],\n",
       "        [7.7852e-01],\n",
       "        [4.5517e-01],\n",
       "        [1.2907e+00],\n",
       "        [9.4415e-01],\n",
       "        [4.1934e+00],\n",
       "        [4.7705e-01],\n",
       "        [9.1309e-02],\n",
       "        [4.8138e-01],\n",
       "        [6.5402e-01],\n",
       "        [4.9931e-01],\n",
       "        [6.9107e-02],\n",
       "        [2.8926e-01],\n",
       "        [2.6627e+00],\n",
       "        [4.0336e+00],\n",
       "        [5.3741e-01],\n",
       "        [2.1744e+00],\n",
       "        [5.5710e-01],\n",
       "        [2.0320e+00],\n",
       "        [2.1319e+00],\n",
       "        [2.7109e+00],\n",
       "        [9.1168e-01],\n",
       "        [4.0009e+00],\n",
       "        [2.9557e+00],\n",
       "        [1.8080e-01],\n",
       "        [3.9252e+00],\n",
       "        [1.5411e-03],\n",
       "        [3.7677e-01],\n",
       "        [1.8930e-01],\n",
       "        [1.7271e-01],\n",
       "        [4.9397e-01],\n",
       "        [1.7171e-01],\n",
       "        [7.0938e-02],\n",
       "        [3.2326e-01],\n",
       "        [3.9314e+00],\n",
       "        [4.3300e+00],\n",
       "        [1.3965e+00],\n",
       "        [1.0441e+01],\n",
       "        [5.7022e-02],\n",
       "        [6.2561e-03],\n",
       "        [2.1648e-01],\n",
       "        [1.3586e-01],\n",
       "        [1.4943e+00],\n",
       "        [2.8433e-01],\n",
       "        [3.5730e-01],\n",
       "        [3.2047e-01],\n",
       "        [2.3553e-01],\n",
       "        [1.5908e+00],\n",
       "        [3.8206e-01],\n",
       "        [6.4084e-01],\n",
       "        [2.1762e+00],\n",
       "        [2.2319e-01]])"
      ]
     },
     "execution_count": 173,
     "metadata": {},
     "output_type": "execute_result"
    }
   ],
   "source": [
    "batch_dt[:, :, None][0]"
   ]
  },
  {
   "cell_type": "code",
   "execution_count": 168,
   "metadata": {
    "ExecuteTime": {
     "end_time": "2021-06-23T05:10:39.105007Z",
     "start_time": "2021-06-23T05:10:39.093008Z"
    }
   },
   "outputs": [],
   "source": []
  },
  {
   "cell_type": "code",
   "execution_count": 169,
   "metadata": {
    "ExecuteTime": {
     "end_time": "2021-06-23T05:10:42.357280Z",
     "start_time": "2021-06-23T05:10:42.347280Z"
    }
   },
   "outputs": [
    {
     "data": {
      "text/plain": [
       "tensor([[[0.0376, 0.2483],\n",
       "         [0.0593, 0.6184],\n",
       "         [0.0655, 0.8383],\n",
       "         ...,\n",
       "         [1.4067, 0.0671],\n",
       "         [0.2394, 0.0313],\n",
       "         [0.5005, 0.0171]],\n",
       "\n",
       "        [[0.9951, 0.0237],\n",
       "         [0.2292, 2.3567],\n",
       "         [2.0243, 0.1277],\n",
       "         ...,\n",
       "         [0.0853, 1.3355],\n",
       "         [0.0478, 0.4635],\n",
       "         [0.2000, 0.0313]],\n",
       "\n",
       "        [[0.2219, 0.0520],\n",
       "         [1.5166, 0.1330],\n",
       "         [0.4549, 0.0347],\n",
       "         ...,\n",
       "         [0.0927, 0.0784],\n",
       "         [0.0538, 0.2799],\n",
       "         [0.1784, 0.0380]],\n",
       "\n",
       "        ...,\n",
       "\n",
       "        [[0.0329, 0.4793],\n",
       "         [0.1229, 1.6493],\n",
       "         [0.0709, 1.1362],\n",
       "         ...,\n",
       "         [0.0961, 0.0729],\n",
       "         [0.0706, 0.1087],\n",
       "         [0.1616, 0.0495]],\n",
       "\n",
       "        [[0.9629, 0.2178],\n",
       "         [1.4417, 0.3399],\n",
       "         [0.2545, 2.3661],\n",
       "         ...,\n",
       "         [0.0600, 0.1382],\n",
       "         [0.1440, 0.0408],\n",
       "         [0.1970, 0.0317]],\n",
       "\n",
       "        [[0.0476, 0.4474],\n",
       "         [0.7276, 0.0391],\n",
       "         [0.0295, 0.2966],\n",
       "         ...,\n",
       "         [0.0993, 0.0753],\n",
       "         [0.0859, 0.0805],\n",
       "         [0.1458, 0.0423]]], grad_fn=<SoftplusBackward>)"
      ]
     },
     "execution_count": 169,
     "metadata": {},
     "output_type": "execute_result"
    }
   ],
   "source": [
    "intens_at_evs"
   ]
  },
  {
   "cell_type": "code",
   "execution_count": 167,
   "metadata": {
    "ExecuteTime": {
     "end_time": "2021-06-23T05:03:42.790727Z",
     "start_time": "2021-06-23T05:03:42.767727Z"
    }
   },
   "outputs": [
    {
     "data": {
      "text/plain": [
       "tensor([[[8.1986],\n",
       "         [3.9271],\n",
       "         [1.8315],\n",
       "         ...,\n",
       "         [0.6408],\n",
       "         [2.1762],\n",
       "         [0.2232]],\n",
       "\n",
       "        [[2.8910],\n",
       "         [0.0323],\n",
       "         [0.0513],\n",
       "         ...,\n",
       "         [0.2090],\n",
       "         [1.3554],\n",
       "         [0.7401]],\n",
       "\n",
       "        [[2.4071],\n",
       "         [0.0458],\n",
       "         [1.9676],\n",
       "         ...,\n",
       "         [0.0000],\n",
       "         [0.0000],\n",
       "         [0.0000]],\n",
       "\n",
       "        ...,\n",
       "\n",
       "        [[0.7240],\n",
       "         [2.5218],\n",
       "         [1.0942],\n",
       "         ...,\n",
       "         [0.0000],\n",
       "         [0.0000],\n",
       "         [0.0000]],\n",
       "\n",
       "        [[0.3943],\n",
       "         [1.1565],\n",
       "         [0.0341],\n",
       "         ...,\n",
       "         [0.0000],\n",
       "         [0.0000],\n",
       "         [0.0000]],\n",
       "\n",
       "        [[1.7820],\n",
       "         [1.4197],\n",
       "         [5.4799],\n",
       "         ...,\n",
       "         [0.0000],\n",
       "         [0.0000],\n",
       "         [0.0000]]])"
      ]
     },
     "execution_count": 167,
     "metadata": {},
     "output_type": "execute_result"
    }
   ],
   "source": [
    "batch_dt[:, :, None]"
   ]
  },
  {
   "cell_type": "code",
   "execution_count": null,
   "metadata": {},
   "outputs": [],
   "source": []
  }
 ],
 "metadata": {
  "kernelspec": {
   "display_name": "Python 3",
   "language": "python",
   "name": "python3"
  },
  "language_info": {
   "codemirror_mode": {
    "name": "ipython",
    "version": 3
   },
   "file_extension": ".py",
   "mimetype": "text/x-python",
   "name": "python",
   "nbconvert_exporter": "python",
   "pygments_lexer": "ipython3",
   "version": "3.7.6"
  },
  "latex_envs": {
   "LaTeX_envs_menu_present": true,
   "autoclose": false,
   "autocomplete": true,
   "bibliofile": "biblio.bib",
   "cite_by": "apalike",
   "current_citInitial": 1,
   "eqLabelWithNumbers": true,
   "eqNumInitial": 1,
   "hotkeys": {
    "equation": "Ctrl-E",
    "itemize": "Ctrl-I"
   },
   "labels_anchors": false,
   "latex_user_defs": false,
   "report_style_numbering": false,
   "user_envs_cfg": false
  },
  "toc": {
   "base_numbering": 1,
   "nav_menu": {},
   "number_sections": true,
   "sideBar": true,
   "skip_h1_title": false,
   "title_cell": "Table of Contents",
   "title_sidebar": "Contents",
   "toc_cell": false,
   "toc_position": {},
   "toc_section_display": true,
   "toc_window_display": false
  }
 },
 "nbformat": 4,
 "nbformat_minor": 4
}
