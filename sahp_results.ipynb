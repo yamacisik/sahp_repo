{
 "cells": [
  {
   "cell_type": "code",
   "execution_count": 249,
   "metadata": {
    "ExecuteTime": {
     "end_time": "2021-10-14T04:00:27.694606Z",
     "start_time": "2021-10-14T04:00:27.676653Z"
    }
   },
   "outputs": [],
   "source": [
    "from train_functions import train_sahp\n",
    "import torch\n",
    "import pickle\n",
    "import numpy as np\n",
    "\n",
    "from utils.load_synth_data import process_loaded_sequences\n",
    "from utils.util import get_batch,count_parameters\n",
    "from utils.atten_optimizer import NoamOpt\n",
    "from train_functions.train_sahp import make_model,eval_sahp,prediction_evaluation,MaskBatch\n",
    "import seaborn as sns\n",
    "import matplotlib.pyplot as plt\n",
    "\n",
    "\n",
    "\n",
    "import torch.optim as optim\n",
    "import random\n",
    "import math\n",
    "\n",
    "def get_pairwise_times(event_time):\n",
    "    xt_bar = event_time.unsqueeze(1). \\\n",
    "        expand(event_time.size(0), event_time.size(1), event_time.size(1))\n",
    "    xt = xt_bar.transpose(1, 2)\n",
    "    return (xt_bar, xt)\n",
    "\n",
    "\n",
    "def get_pairwise_type_embeddings(embeddings):\n",
    "    xd_bar = embeddings.unsqueeze(1).expand(embeddings.size(\n",
    "        0), embeddings.size(1), embeddings.size(1), embeddings.size(-1))\n",
    "    xd = xd_bar.transpose(1, 2)\n",
    "\n",
    "    return (xd_bar, xd)\n"
   ]
  },
  {
   "cell_type": "markdown",
   "metadata": {},
   "source": [
    "## Synth Model"
   ]
  },
  {
   "cell_type": "code",
   "execution_count": 253,
   "metadata": {
    "ExecuteTime": {
     "end_time": "2021-10-14T04:03:28.189301Z",
     "start_time": "2021-10-14T04:03:28.002743Z"
    }
   },
   "outputs": [
    {
     "name": "stdout",
     "output_type": "stream",
     "text": [
      "max_sequence_length: 323\n"
     ]
    }
   ],
   "source": [
    "model = train_sahp.make_model(max_sequence_length=324)\n",
    "model_dict =torch.load('saved_models/sahp-synthetic_hidden16-20210622-205430',map_location=torch.device('cpu'))\n",
    "model.load_state_dict(model_dict)\n",
    "\n",
    "with open('data/simulated/hawkes_synthetic_random_2d_20191130-180837.pkl', 'rb') as f:\n",
    "    loaded_hawkes_data = pickle.load(f)\n",
    "\n",
    "\n",
    "seq_times, seq_types, seq_lengths, _ = process_loaded_sequences(loaded_hawkes_data, 2)\n",
    "\n",
    "total_sample_size = seq_times.size(0)\n",
    "train_ratio = 0.8\n",
    "train_size = int(train_ratio * total_sample_size)\n",
    "dev_ratio =0.1\n",
    "dev_size = int(dev_ratio * total_sample_size)\n",
    "## Split Traning and Test Sets\n",
    "train_seq_times = seq_times[:train_size]\n",
    "train_seq_types = seq_types[:train_size]\n",
    "train_seq_lengths = seq_lengths[:train_size]\n",
    "\n",
    "\n",
    "dev_seq_times = seq_times[train_size:train_size + dev_size]  # train_size+dev_size\n",
    "dev_seq_types = seq_types[train_size:train_size + dev_size]\n",
    "dev_seq_lengths = seq_lengths[train_size:train_size + dev_size]\n",
    "\n",
    "test_seq_times = seq_times[-dev_size:]\n",
    "test_seq_types = seq_types[-dev_size:]\n",
    "test_seq_lengths = seq_lengths[-dev_size:]\n",
    "\n",
    "\n",
    "## sequence length\n",
    "train_seq_lengths, reorder_indices_train = train_seq_lengths.sort(descending=True)\n",
    "# # Reorder by descending sequence length\n",
    "train_seq_times = train_seq_times[reorder_indices_train]\n",
    "train_seq_types = train_seq_types[reorder_indices_train]\n",
    "#\n",
    "dev_seq_lengths, reorder_indices_dev = dev_seq_lengths.sort(descending=True)\n",
    "# # Reorder by descending sequence length\n",
    "dev_seq_times = dev_seq_times[reorder_indices_dev]\n",
    "dev_seq_types = dev_seq_types[reorder_indices_dev]\n",
    "\n",
    "test_seq_lengths, reorder_indices_test = test_seq_lengths.sort(descending=True)\n",
    "# # Reorder by descending sequence length\n",
    "test_seq_times = test_seq_times[reorder_indices_test]\n",
    "test_seq_types = test_seq_types[reorder_indices_test]\n",
    "\n",
    "max_sequence_length = max(train_seq_lengths[0], dev_seq_lengths[0], test_seq_lengths[0])\n",
    "print('max_sequence_length: {}'.format(max_sequence_length))\n"
   ]
  },
  {
   "cell_type": "code",
   "execution_count": 245,
   "metadata": {
    "ExecuteTime": {
     "end_time": "2021-10-14T03:59:48.065939Z",
     "start_time": "2021-10-14T03:59:48.049017Z"
    }
   },
   "outputs": [],
   "source": [
    "def get_attention_scores_for_sahp(data,model):\n",
    "    tmax = loaded_hawkes_data['tmax']\n",
    "\n",
    "    seq_times, seq_types, seq_lengths, _ = process_loaded_sequences(loaded_hawkes_data, 2)\n",
    "\n",
    "    total_sample_size = seq_times.size(0)\n",
    "    train_ratio = 0.8\n",
    "    train_size = int(train_ratio * total_sample_size)\n",
    "    dev_ratio =0.1\n",
    "    dev_size = int(dev_ratio * total_sample_size)\n",
    "    ## Split Traning and Test Sets\n",
    "    train_seq_times = seq_times[:train_size]\n",
    "    train_seq_types = seq_types[:train_size]\n",
    "    train_seq_lengths = seq_lengths[:train_size]\n",
    "\n",
    "\n",
    "    dev_seq_times = seq_times[train_size:train_size + dev_size]  # train_size+dev_size\n",
    "    dev_seq_types = seq_types[train_size:train_size + dev_size]\n",
    "    dev_seq_lengths = seq_lengths[train_size:train_size + dev_size]\n",
    "\n",
    "    test_seq_times = seq_times[-dev_size:]\n",
    "    test_seq_types = seq_types[-dev_size:]\n",
    "    test_seq_lengths = seq_lengths[-dev_size:]\n",
    "\n",
    "\n",
    "    ## sequence length\n",
    "    train_seq_lengths, reorder_indices_train = train_seq_lengths.sort(descending=True)\n",
    "    # # Reorder by descending sequence length\n",
    "    train_seq_times = train_seq_times[reorder_indices_train]\n",
    "    train_seq_types = train_seq_types[reorder_indices_train]\n",
    "    #\n",
    "    dev_seq_lengths, reorder_indices_dev = dev_seq_lengths.sort(descending=True)\n",
    "    # # Reorder by descending sequence length\n",
    "    dev_seq_times = dev_seq_times[reorder_indices_dev]\n",
    "    dev_seq_types = dev_seq_types[reorder_indices_dev]\n",
    "\n",
    "    test_seq_lengths, reorder_indices_test = test_seq_lengths.sort(descending=True)\n",
    "    # # Reorder by descending sequence length\n",
    "    test_seq_times = test_seq_times[reorder_indices_test]\n",
    "    test_seq_types = test_seq_types[reorder_indices_test]\n",
    "\n",
    "    max_sequence_length = max(train_seq_lengths[0], dev_seq_lengths[0], test_seq_lengths[0])\n",
    "    print('max_sequence_length: {}'.format(max_sequence_length))\n",
    "    \n",
    "    \n",
    "    batch_size = 1\n",
    "    device = 'cpu'\n",
    "\n",
    "    kernels = [[],[],[],[]]\n",
    "    all_times = [[],[],[],[]]\n",
    "    for i_batch in range(400):\n",
    "        batch_onehot, batch_seq_times, batch_dt, batch_seq_types, _, _, _, batch_seq_lengths = \\\n",
    "        get_batch(batch_size, i_batch, model, test_seq_lengths, test_seq_times, test_seq_types,\n",
    "                       rnn=False)\n",
    "\n",
    "        batch_seq_types = batch_seq_types[:, 1:]\n",
    "\n",
    "        masked_seq_types = MaskBatch(batch_seq_types, pad=model.process_dim,\n",
    "                                     device=device)  # exclude the first added even\n",
    "\n",
    "        model.forward(batch_dt, masked_seq_types.src, masked_seq_types.src_mask)\n",
    "\n",
    "\n",
    "\n",
    "        type_embedding = model.type_emb(batch_seq_types) * math.sqrt(model.d_model)  #\n",
    "        position_embedding = model.position_emb(batch_seq_types, batch_dt)\n",
    "        x = type_embedding + position_embedding\n",
    "\n",
    "        (xt_bar, xt) = get_pairwise_times(batch_seq_times[:,1:])\n",
    "        d = torch.abs(xt_bar - xt)\n",
    "        xd_bar, xd = get_pairwise_times(batch_seq_types)\n",
    "        scores = model.attention.scores[:,1,:,:]\n",
    "    # scores =scores[0].unsqueeze(0)\n",
    "        for i in range(2):\n",
    "            for j in range(2):\n",
    "                mask = (xd_bar==i)*(xd ==j)\n",
    "                times = d[mask]\n",
    "                kernel = scores[mask]\n",
    "                if i ==0 and j == 0:\n",
    "                    index =0\n",
    "                elif i ==0 and j ==1:\n",
    "                    index =1\n",
    "                elif i ==1 and j ==0:\n",
    "                    index = 2\n",
    "                else:\n",
    "                    index = 3\n",
    "                all_times[index].append(times.detach().numpy())\n",
    "                kernels[index].append(kernel.detach().numpy())\n",
    "                \n",
    "    times = np.concatenate(all_times[1])\n",
    "    k_val = np.concatenate(kernels[1])"
   ]
  },
  {
   "cell_type": "code",
   "execution_count": 255,
   "metadata": {
    "ExecuteTime": {
     "end_time": "2021-10-14T04:04:03.684389Z",
     "start_time": "2021-10-14T04:03:54.987064Z"
    }
   },
   "outputs": [],
   "source": [
    "batch_size = 1\n",
    "device = 'cpu'\n",
    "\n",
    "kernels = [[],[],[],[]]\n",
    "all_times = [[],[],[],[]]\n",
    "for i_batch in range(400):\n",
    "    batch_onehot, batch_seq_times, batch_dt, batch_seq_types, _, _, _, batch_seq_lengths = \\\n",
    "    get_batch(batch_size, i_batch, model, test_seq_lengths, test_seq_times, test_seq_types,\n",
    "                   rnn=False)\n",
    "\n",
    "    batch_seq_types = batch_seq_types[:, 1:]\n",
    "\n",
    "    masked_seq_types = MaskBatch(batch_seq_types, pad=model.process_dim,\n",
    "                                 device=device)  # exclude the first added even\n",
    "    \n",
    "    model.forward(batch_dt, masked_seq_types.src, masked_seq_types.src_mask)\n",
    "    \n",
    "    \n",
    "\n",
    "    type_embedding = model.type_emb(batch_seq_types) * math.sqrt(model.d_model)  #\n",
    "    position_embedding = model.position_emb(batch_seq_types, batch_dt)\n",
    "    x = type_embedding + position_embedding\n",
    "\n",
    "    (xt_bar, xt) = get_pairwise_times(batch_seq_times[:,1:])\n",
    "    d = torch.abs(xt_bar - xt)\n",
    "    xd_bar, xd = get_pairwise_times(batch_seq_types)\n",
    "    scores = model.attention.scores[:,1,:,:]\n",
    "# scores =scores[0].unsqueeze(0)\n",
    "    for i in range(2):\n",
    "        for j in range(2):\n",
    "            mask = (xd_bar==i)*(xd ==j)\n",
    "            times = d[mask]\n",
    "            kernel = scores[mask]\n",
    "            if i ==0 and j == 0:\n",
    "                index =0\n",
    "            elif i ==0 and j ==1:\n",
    "                index =1\n",
    "            elif i ==1 and j ==0:\n",
    "                index = 2\n",
    "            else:\n",
    "                index = 3\n",
    "            all_times[index].append(times.detach().numpy())\n",
    "            kernels[index].append(kernel.detach().numpy())\n"
   ]
  },
  {
   "cell_type": "code",
   "execution_count": 219,
   "metadata": {
    "ExecuteTime": {
     "end_time": "2021-10-14T02:56:41.688890Z",
     "start_time": "2021-10-14T02:56:34.922311Z"
    }
   },
   "outputs": [
    {
     "name": "stderr",
     "output_type": "stream",
     "text": [
      "100%|████████████████████████████████████████| 400/400 [00:06<00:00, 59.38it/s]\n"
     ]
    },
    {
     "name": "stdout",
     "output_type": "stream",
     "text": [
      "rmse 2.2363861209728695\n",
      "Type prediction score: 0.5575\n",
      "tensor(0.0201)\n"
     ]
    }
   ],
   "source": [
    "## Get Result Metrics\n",
    "avg_rmse, types_predict_score, results = prediction_evaluation(\n",
    "    device, model, test_seq_lengths, test_seq_times, test_seq_types, 1, tmax)\n",
    "\n",
    "print(test_loss)"
   ]
  },
  {
   "cell_type": "code",
   "execution_count": 208,
   "metadata": {
    "ExecuteTime": {
     "end_time": "2021-10-14T02:33:57.702364Z",
     "start_time": "2021-10-14T02:33:57.680421Z"
    }
   },
   "outputs": [
    {
     "data": {
      "text/plain": [
       "0.07079299"
      ]
     },
     "execution_count": 208,
     "metadata": {},
     "output_type": "execute_result"
    }
   ],
   "source": [
    "k_val[times == 0].mean()"
   ]
  },
  {
   "cell_type": "code",
   "execution_count": 265,
   "metadata": {
    "ExecuteTime": {
     "end_time": "2021-10-14T04:17:52.173725Z",
     "start_time": "2021-10-14T04:17:52.163753Z"
    }
   },
   "outputs": [
    {
     "data": {
      "text/plain": [
       "tensor(10150479, dtype=torch.int32)"
      ]
     },
     "execution_count": 265,
     "metadata": {},
     "output_type": "execute_result"
    }
   ],
   "source": [
    "sum(test_seq_lengths**2)"
   ]
  },
  {
   "cell_type": "code",
   "execution_count": 256,
   "metadata": {
    "ExecuteTime": {
     "end_time": "2021-10-14T04:04:14.926141Z",
     "start_time": "2021-10-14T04:04:14.880855Z"
    }
   },
   "outputs": [],
   "source": [
    "times = [np.concatenate(cur) for cur in all_times]\n",
    "k_val = [np.concatenate(cur) for cur in kernels]"
   ]
  },
  {
   "cell_type": "code",
   "execution_count": 257,
   "metadata": {
    "ExecuteTime": {
     "end_time": "2021-10-14T04:04:16.668157Z",
     "start_time": "2021-10-14T04:04:16.280842Z"
    }
   },
   "outputs": [],
   "source": [
    "# times = np.concatenate(all_times[0])\n",
    "# k_val = np.concatenate(kernels[1])    \n",
    "triggering_kernels = {'times':times,'scores':k_val}\n",
    "np.save('sahp_kernels.npy',triggering_kernels)"
   ]
  },
  {
   "cell_type": "code",
   "execution_count": 189,
   "metadata": {
    "ExecuteTime": {
     "end_time": "2021-10-14T02:26:05.482007Z",
     "start_time": "2021-10-14T02:26:04.392692Z"
    }
   },
   "outputs": [
    {
     "data": {
      "text/plain": [
       "<AxesSubplot:>"
      ]
     },
     "execution_count": 189,
     "metadata": {},
     "output_type": "execute_result"
    },
    {
     "data": {
      "image/png": "[encoded data removed]",
      "text/plain": [
       "<Figure size 432x288 with 1 Axes>"
      ]
     },
     "metadata": {
      "needs_background": "light"
     },
     "output_type": "display_data"
    }
   ],
   "source": [
    "times = np.concatenate(all_times[1])\n",
    "sns.distplot(times)"
   ]
  },
  {
   "cell_type": "code",
   "execution_count": 193,
   "metadata": {
    "ExecuteTime": {
     "end_time": "2021-10-14T02:26:45.474115Z",
     "start_time": "2021-10-14T02:26:45.457161Z"
    }
   },
   "outputs": [
    {
     "data": {
      "text/plain": [
       "array([ 0.       , 47.88739  , 93.00654  , ..., 11.193436 , 46.539505 ,\n",
       "        3.1424942], dtype=float32)"
      ]
     },
     "execution_count": 193,
     "metadata": {},
     "output_type": "execute_result"
    }
   ],
   "source": [
    "t_val = times[sorted_index]\n",
    "t_val"
   ]
  },
  {
   "cell_type": "code",
   "execution_count": 203,
   "metadata": {
    "ExecuteTime": {
     "end_time": "2021-10-14T02:32:11.526361Z",
     "start_time": "2021-10-14T02:32:10.569979Z"
    }
   },
   "outputs": [
    {
     "data": {
      "text/plain": [
       "[<matplotlib.lines.Line2D at 0x25304bcbec8>]"
      ]
     },
     "execution_count": 203,
     "metadata": {},
     "output_type": "execute_result"
    },
    {
     "data": {
      "image/png": "[encoded data removed]",
      "text/plain": [
       "<Figure size 432x288 with 1 Axes>"
      ]
     },
     "metadata": {
      "needs_background": "light"
     },
     "output_type": "display_data"
    }
   ],
   "source": [
    "#11\n",
    "\n",
    "\n",
    "times = np.concatenate(all_times[0])\n",
    "k_val = np.concatenate(kernels[1])\n",
    "sorted_index = np.argsort(times)\n",
    "t_val = times[sorted_index]\n",
    "k_val = k_val[sorted_index]\n",
    "\n",
    "\n",
    "moving_average = 100\n",
    "\n",
    "## Moving Average \n",
    "k_val = np.convolve(k_val, np.ones(moving_average), 'valid') / moving_average    \n",
    "t_val = np.convolve(t_val, np.ones(moving_average), 'valid') / moving_average\n",
    "\n",
    "plt.plot(t_val,k_val)"
   ]
  },
  {
   "cell_type": "markdown",
   "metadata": {},
   "source": [
    "## Mimic"
   ]
  },
  {
   "cell_type": "code",
   "execution_count": 233,
   "metadata": {
    "ExecuteTime": {
     "end_time": "2021-10-14T03:09:42.312627Z",
     "start_time": "2021-10-14T03:09:42.292674Z"
    }
   },
   "outputs": [],
   "source": [
    "\n",
    "with open('data/mimic/test_manifold_format.pkl', 'rb') as f:\n",
    "    loaded_hawkes_data = pickle.load(f)\n",
    "\n",
    "\n",
    "test_seq_times, test_seq_types, test_seq_lengths, _ = process_loaded_sequences(loaded_hawkes_data, 75)\n",
    "\n",
    "test_seq_lengths, reorder_indices_test = test_seq_lengths.sort(descending=True)\n",
    "test_seq_times = test_seq_times[reorder_indices_test]\n",
    "test_seq_types = test_seq_types[reorder_indices_test]"
   ]
  },
  {
   "cell_type": "code",
   "execution_count": 237,
   "metadata": {
    "ExecuteTime": {
     "end_time": "2021-10-14T03:13:25.943498Z",
     "start_time": "2021-10-14T03:13:25.909400Z"
    }
   },
   "outputs": [
    {
     "ename": "RuntimeError",
     "evalue": "Error(s) in loading state_dict for SAHP:\n\tsize mismatch for type_emb.weight: copying a param with shape torch.Size([76, 32]) from checkpoint, the shape in current model is torch.Size([76, 16]).\n\tsize mismatch for position_emb.div_term: copying a param with shape torch.Size([16]) from checkpoint, the shape in current model is torch.Size([8]).\n\tsize mismatch for position_emb.Wt.weight: copying a param with shape torch.Size([16, 1]) from checkpoint, the shape in current model is torch.Size([8, 1]).\n\tsize mismatch for attention.linear_layers.0.weight: copying a param with shape torch.Size([32, 32]) from checkpoint, the shape in current model is torch.Size([16, 16]).\n\tsize mismatch for attention.linear_layers.0.bias: copying a param with shape torch.Size([32]) from checkpoint, the shape in current model is torch.Size([16]).\n\tsize mismatch for attention.linear_layers.1.weight: copying a param with shape torch.Size([32, 32]) from checkpoint, the shape in current model is torch.Size([16, 16]).\n\tsize mismatch for attention.linear_layers.1.bias: copying a param with shape torch.Size([32]) from checkpoint, the shape in current model is torch.Size([16]).\n\tsize mismatch for attention.linear_layers.2.weight: copying a param with shape torch.Size([32, 32]) from checkpoint, the shape in current model is torch.Size([16, 16]).\n\tsize mismatch for attention.linear_layers.2.bias: copying a param with shape torch.Size([32]) from checkpoint, the shape in current model is torch.Size([16]).\n\tsize mismatch for attention.output_linear.weight: copying a param with shape torch.Size([32, 32]) from checkpoint, the shape in current model is torch.Size([16, 16]).\n\tsize mismatch for attention.output_linear.bias: copying a param with shape torch.Size([32]) from checkpoint, the shape in current model is torch.Size([16]).\n\tsize mismatch for feed_forward.w_1.weight: copying a param with shape torch.Size([128, 32]) from checkpoint, the shape in current model is torch.Size([64, 16]).\n\tsize mismatch for feed_forward.w_1.bias: copying a param with shape torch.Size([128]) from checkpoint, the shape in current model is torch.Size([64]).\n\tsize mismatch for feed_forward.w_2.weight: copying a param with shape torch.Size([32, 128]) from checkpoint, the shape in current model is torch.Size([16, 64]).\n\tsize mismatch for feed_forward.w_2.bias: copying a param with shape torch.Size([32]) from checkpoint, the shape in current model is torch.Size([16]).\n\tsize mismatch for input_sublayer.norm.a_2: copying a param with shape torch.Size([32]) from checkpoint, the shape in current model is torch.Size([16]).\n\tsize mismatch for input_sublayer.norm.b_2: copying a param with shape torch.Size([32]) from checkpoint, the shape in current model is torch.Size([16]).\n\tsize mismatch for output_sublayer.norm.a_2: copying a param with shape torch.Size([32]) from checkpoint, the shape in current model is torch.Size([16]).\n\tsize mismatch for output_sublayer.norm.b_2: copying a param with shape torch.Size([32]) from checkpoint, the shape in current model is torch.Size([16]).\n\tsize mismatch for start_layer.0.weight: copying a param with shape torch.Size([32, 32]) from checkpoint, the shape in current model is torch.Size([16, 16]).\n\tsize mismatch for start_layer.0.bias: copying a param with shape torch.Size([32]) from checkpoint, the shape in current model is torch.Size([16]).\n\tsize mismatch for converge_layer.0.weight: copying a param with shape torch.Size([32, 32]) from checkpoint, the shape in current model is torch.Size([16, 16]).\n\tsize mismatch for converge_layer.0.bias: copying a param with shape torch.Size([32]) from checkpoint, the shape in current model is torch.Size([16]).\n\tsize mismatch for decay_layer.0.weight: copying a param with shape torch.Size([32, 32]) from checkpoint, the shape in current model is torch.Size([16, 16]).\n\tsize mismatch for decay_layer.0.bias: copying a param with shape torch.Size([32]) from checkpoint, the shape in current model is torch.Size([16]).\n\tsize mismatch for intensity_layer.0.weight: copying a param with shape torch.Size([75, 32]) from checkpoint, the shape in current model is torch.Size([75, 16]).",
     "output_type": "error",
     "traceback": [
      "\u001b[1;31m---------------------------------------------------------------------------\u001b[0m",
      "\u001b[1;31mRuntimeError\u001b[0m                              Traceback (most recent call last)",
      "\u001b[1;32m<ipython-input-237-d280a6f9dcb5>\u001b[0m in \u001b[0;36m<module>\u001b[1;34m\u001b[0m\n\u001b[0;32m      1\u001b[0m \u001b[0mmodel\u001b[0m \u001b[1;33m=\u001b[0m \u001b[0mtrain_sahp\u001b[0m\u001b[1;33m.\u001b[0m\u001b[0mmake_model\u001b[0m\u001b[1;33m(\u001b[0m\u001b[0mmax_sequence_length\u001b[0m\u001b[1;33m=\u001b[0m\u001b[1;36m34\u001b[0m\u001b[1;33m,\u001b[0m\u001b[0mprocess_dim\u001b[0m\u001b[1;33m=\u001b[0m\u001b[1;36m75\u001b[0m\u001b[1;33m)\u001b[0m\u001b[1;33m\u001b[0m\u001b[1;33m\u001b[0m\u001b[0m\n\u001b[0;32m      2\u001b[0m \u001b[0mmodel_dict\u001b[0m \u001b[1;33m=\u001b[0m\u001b[0mtorch\u001b[0m\u001b[1;33m.\u001b[0m\u001b[0mload\u001b[0m\u001b[1;33m(\u001b[0m\u001b[1;34m'saved_models/sahp-mimic_hidden16-20211012-005042'\u001b[0m\u001b[1;33m,\u001b[0m\u001b[0mmap_location\u001b[0m\u001b[1;33m=\u001b[0m\u001b[0mtorch\u001b[0m\u001b[1;33m.\u001b[0m\u001b[0mdevice\u001b[0m\u001b[1;33m(\u001b[0m\u001b[1;34m'cpu'\u001b[0m\u001b[1;33m)\u001b[0m\u001b[1;33m)\u001b[0m\u001b[1;33m\u001b[0m\u001b[1;33m\u001b[0m\u001b[0m\n\u001b[1;32m----> 3\u001b[1;33m \u001b[0mmodel\u001b[0m\u001b[1;33m.\u001b[0m\u001b[0mload_state_dict\u001b[0m\u001b[1;33m(\u001b[0m\u001b[0mmodel_dict\u001b[0m\u001b[1;33m)\u001b[0m\u001b[1;33m\u001b[0m\u001b[1;33m\u001b[0m\u001b[0m\n\u001b[0m",
      "\u001b[1;32m~\\Anaconda3\\lib\\site-packages\\torch\\nn\\modules\\module.py\u001b[0m in \u001b[0;36mload_state_dict\u001b[1;34m(self, state_dict, strict)\u001b[0m\n\u001b[0;32m   1405\u001b[0m         \u001b[1;32mif\u001b[0m \u001b[0mlen\u001b[0m\u001b[1;33m(\u001b[0m\u001b[0merror_msgs\u001b[0m\u001b[1;33m)\u001b[0m \u001b[1;33m>\u001b[0m \u001b[1;36m0\u001b[0m\u001b[1;33m:\u001b[0m\u001b[1;33m\u001b[0m\u001b[1;33m\u001b[0m\u001b[0m\n\u001b[0;32m   1406\u001b[0m             raise RuntimeError('Error(s) in loading state_dict for {}:\\n\\t{}'.format(\n\u001b[1;32m-> 1407\u001b[1;33m                                self.__class__.__name__, \"\\n\\t\".join(error_msgs)))\n\u001b[0m\u001b[0;32m   1408\u001b[0m         \u001b[1;32mreturn\u001b[0m \u001b[0m_IncompatibleKeys\u001b[0m\u001b[1;33m(\u001b[0m\u001b[0mmissing_keys\u001b[0m\u001b[1;33m,\u001b[0m \u001b[0munexpected_keys\u001b[0m\u001b[1;33m)\u001b[0m\u001b[1;33m\u001b[0m\u001b[1;33m\u001b[0m\u001b[0m\n\u001b[0;32m   1409\u001b[0m \u001b[1;33m\u001b[0m\u001b[0m\n",
      "\u001b[1;31mRuntimeError\u001b[0m: Error(s) in loading state_dict for SAHP:\n\tsize mismatch for type_emb.weight: copying a param with shape torch.Size([76, 32]) from checkpoint, the shape in current model is torch.Size([76, 16]).\n\tsize mismatch for position_emb.div_term: copying a param with shape torch.Size([16]) from checkpoint, the shape in current model is torch.Size([8]).\n\tsize mismatch for position_emb.Wt.weight: copying a param with shape torch.Size([16, 1]) from checkpoint, the shape in current model is torch.Size([8, 1]).\n\tsize mismatch for attention.linear_layers.0.weight: copying a param with shape torch.Size([32, 32]) from checkpoint, the shape in current model is torch.Size([16, 16]).\n\tsize mismatch for attention.linear_layers.0.bias: copying a param with shape torch.Size([32]) from checkpoint, the shape in current model is torch.Size([16]).\n\tsize mismatch for attention.linear_layers.1.weight: copying a param with shape torch.Size([32, 32]) from checkpoint, the shape in current model is torch.Size([16, 16]).\n\tsize mismatch for attention.linear_layers.1.bias: copying a param with shape torch.Size([32]) from checkpoint, the shape in current model is torch.Size([16]).\n\tsize mismatch for attention.linear_layers.2.weight: copying a param with shape torch.Size([32, 32]) from checkpoint, the shape in current model is torch.Size([16, 16]).\n\tsize mismatch for attention.linear_layers.2.bias: copying a param with shape torch.Size([32]) from checkpoint, the shape in current model is torch.Size([16]).\n\tsize mismatch for attention.output_linear.weight: copying a param with shape torch.Size([32, 32]) from checkpoint, the shape in current model is torch.Size([16, 16]).\n\tsize mismatch for attention.output_linear.bias: copying a param with shape torch.Size([32]) from checkpoint, the shape in current model is torch.Size([16]).\n\tsize mismatch for feed_forward.w_1.weight: copying a param with shape torch.Size([128, 32]) from checkpoint, the shape in current model is torch.Size([64, 16]).\n\tsize mismatch for feed_forward.w_1.bias: copying a param with shape torch.Size([128]) from checkpoint, the shape in current model is torch.Size([64]).\n\tsize mismatch for feed_forward.w_2.weight: copying a param with shape torch.Size([32, 128]) from checkpoint, the shape in current model is torch.Size([16, 64]).\n\tsize mismatch for feed_forward.w_2.bias: copying a param with shape torch.Size([32]) from checkpoint, the shape in current model is torch.Size([16]).\n\tsize mismatch for input_sublayer.norm.a_2: copying a param with shape torch.Size([32]) from checkpoint, the shape in current model is torch.Size([16]).\n\tsize mismatch for input_sublayer.norm.b_2: copying a param with shape torch.Size([32]) from checkpoint, the shape in current model is torch.Size([16]).\n\tsize mismatch for output_sublayer.norm.a_2: copying a param with shape torch.Size([32]) from checkpoint, the shape in current model is torch.Size([16]).\n\tsize mismatch for output_sublayer.norm.b_2: copying a param with shape torch.Size([32]) from checkpoint, the shape in current model is torch.Size([16]).\n\tsize mismatch for start_layer.0.weight: copying a param with shape torch.Size([32, 32]) from checkpoint, the shape in current model is torch.Size([16, 16]).\n\tsize mismatch for start_layer.0.bias: copying a param with shape torch.Size([32]) from checkpoint, the shape in current model is torch.Size([16]).\n\tsize mismatch for converge_layer.0.weight: copying a param with shape torch.Size([32, 32]) from checkpoint, the shape in current model is torch.Size([16, 16]).\n\tsize mismatch for converge_layer.0.bias: copying a param with shape torch.Size([32]) from checkpoint, the shape in current model is torch.Size([16]).\n\tsize mismatch for decay_layer.0.weight: copying a param with shape torch.Size([32, 32]) from checkpoint, the shape in current model is torch.Size([16, 16]).\n\tsize mismatch for decay_layer.0.bias: copying a param with shape torch.Size([32]) from checkpoint, the shape in current model is torch.Size([16]).\n\tsize mismatch for intensity_layer.0.weight: copying a param with shape torch.Size([75, 32]) from checkpoint, the shape in current model is torch.Size([75, 16])."
     ]
    }
   ],
   "source": [
    "\n",
    "model = train_sahp.make_model(max_sequence_length=34,process_dim=75)\n",
    "model_dict =torch.load('saved_models/sahp-mimic_hidden16-20211012-005042',map_location=torch.device('cpu'))\n",
    "model.load_state_dict(model_dict)"
   ]
  },
  {
   "cell_type": "code",
   "execution_count": 226,
   "metadata": {
    "ExecuteTime": {
     "end_time": "2021-10-14T03:06:37.030952Z",
     "start_time": "2021-10-14T03:06:37.026963Z"
    }
   },
   "outputs": [],
   "source": [
    "### StackOverflow"
   ]
  },
  {
   "cell_type": "markdown",
   "metadata": {},
   "source": [
    "## Retweet"
   ]
  },
  {
   "cell_type": "code",
   "execution_count": 10,
   "metadata": {
    "ExecuteTime": {
     "end_time": "2021-06-23T22:05:35.767157Z",
     "start_time": "2021-06-23T22:04:35.091720Z"
    }
   },
   "outputs": [],
   "source": [
    "## Load Data Set\n",
    "dataset = 'retweet'\n",
    "process_dim =3 \n",
    "\n",
    "train_path = 'data/' + dataset + '/train_manifold_format.pkl'\n",
    "dev_path = 'data/' + dataset + '/dev_manifold_format.pkl'\n",
    "test_path = 'data/' + dataset + '/test_manifold_format.pkl'\n",
    "\n",
    "with open(train_path, 'rb') as f:\n",
    "    train_hawkes_data = pickle.load(f)\n",
    "with open(dev_path, 'rb') as f:\n",
    "    dev_hawkes_data = pickle.load(f)\n",
    "with open(test_path, 'rb') as f:\n",
    "    test_hawkes_data = pickle.load(f)\n",
    "\n",
    "train_seq_times, train_seq_types, train_seq_lengths, train_tmax = \\\n",
    "process_loaded_sequences(train_hawkes_data, process_dim)\n",
    "dev_seq_times, dev_seq_types, dev_seq_lengths, dev_tmax = \\\n",
    "process_loaded_sequences(dev_hawkes_data, process_dim)\n",
    "test_seq_times, test_seq_types, test_seq_lengths, test_tmax = \\\n",
    "process_loaded_sequences(test_hawkes_data, process_dim)\n",
    "\n",
    "tmax = max([train_tmax, dev_tmax, test_tmax])\n"
   ]
  },
  {
   "cell_type": "code",
   "execution_count": 14,
   "metadata": {
    "ExecuteTime": {
     "end_time": "2021-06-23T22:07:33.676349Z",
     "start_time": "2021-06-23T22:07:33.642195Z"
    }
   },
   "outputs": [
    {
     "name": "stdout",
     "output_type": "stream",
     "text": [
      "Train sample size: 20000\n",
      "Dev sample size: 2000\n",
      "Test sample size: 2000\n",
      "No. of event tokens in training subset: tensor(2176116)\n",
      "No. of event tokens in development subset: tensor(215521)\n",
      "No. of event tokens in test subset: tensor(218465)\n",
      "max_sequence_length: 264\n"
     ]
    }
   ],
   "source": [
    "device = 'cpu'\n",
    "\n",
    "train_sample_size = train_seq_times.size(0)\n",
    "print(\"Train sample size: {}\".format(train_sample_size))\n",
    "\n",
    "dev_sample_size = dev_seq_times.size(0)\n",
    "print(\"Dev sample size: {}\".format(dev_sample_size))\n",
    "\n",
    "test_sample_size = test_seq_times.size(0)\n",
    "print(\"Test sample size: {}\".format(test_sample_size))\n",
    "\n",
    "\n",
    "# Define training data\n",
    "train_seq_times = train_seq_times.to(device)\n",
    "train_seq_types = train_seq_types.to(device)\n",
    "train_seq_lengths = train_seq_lengths.to(device)\n",
    "print(\"No. of event tokens in training subset:\", train_seq_lengths.sum())\n",
    "\n",
    "# Define development data\n",
    "dev_seq_times = dev_seq_times.to(device)\n",
    "dev_seq_types = dev_seq_types.to(device)\n",
    "dev_seq_lengths = dev_seq_lengths.to(device)\n",
    "print(\"No. of event tokens in development subset:\", dev_seq_lengths.sum())\n",
    "\n",
    "# Define test data\n",
    "test_seq_times = test_seq_times.to(device)\n",
    "test_seq_types = test_seq_types.to(device)\n",
    "test_seq_lengths = test_seq_lengths.to(device)\n",
    "print(\"No. of event tokens in test subset:\", test_seq_lengths.sum())\n",
    "\n",
    "\n",
    "## sequence length\n",
    "train_seq_lengths, reorder_indices_train = train_seq_lengths.sort(descending=True)\n",
    "# # Reorder by descending sequence length\n",
    "train_seq_times = train_seq_times[reorder_indices_train]\n",
    "train_seq_types = train_seq_types[reorder_indices_train]\n",
    "#\n",
    "dev_seq_lengths, reorder_indices_dev = dev_seq_lengths.sort(descending=True)\n",
    "# # Reorder by descending sequence length\n",
    "dev_seq_times = dev_seq_times[reorder_indices_dev]\n",
    "dev_seq_types = dev_seq_types[reorder_indices_dev]\n",
    "\n",
    "test_seq_lengths, reorder_indices_test = test_seq_lengths.sort(descending=True)\n",
    "# # Reorder by descending sequence length\n",
    "test_seq_times = test_seq_times[reorder_indices_test]\n",
    "test_seq_types = test_seq_types[reorder_indices_test]\n",
    "\n",
    "max_sequence_length = max(train_seq_lengths[0], dev_seq_lengths[0], test_seq_lengths[0])\n",
    "print('max_sequence_length: {}'.format(max_sequence_length))"
   ]
  },
  {
   "cell_type": "code",
   "execution_count": 210,
   "metadata": {
    "ExecuteTime": {
     "end_time": "2021-10-14T02:51:59.795188Z",
     "start_time": "2021-10-14T02:51:59.762593Z"
    }
   },
   "outputs": [
    {
     "ename": "FileNotFoundError",
     "evalue": "[Errno 2] No such file or directory: 'replicated_models/sahp-retweet_hidden16-20210623-055702'",
     "output_type": "error",
     "traceback": [
      "\u001b[1;31m---------------------------------------------------------------------------\u001b[0m",
      "\u001b[1;31mFileNotFoundError\u001b[0m                         Traceback (most recent call last)",
      "\u001b[1;32m<ipython-input-210-a33ef28e103a>\u001b[0m in \u001b[0;36m<module>\u001b[1;34m\u001b[0m\n\u001b[0;32m      1\u001b[0m \u001b[0mmodel\u001b[0m \u001b[1;33m=\u001b[0m \u001b[0mtrain_sahp\u001b[0m\u001b[1;33m.\u001b[0m\u001b[0mmake_model\u001b[0m\u001b[1;33m(\u001b[0m\u001b[0mmax_sequence_length\u001b[0m\u001b[1;33m=\u001b[0m\u001b[0mmax_sequence_length\u001b[0m\u001b[1;33m+\u001b[0m\u001b[1;36m1\u001b[0m\u001b[1;33m,\u001b[0m \u001b[0mprocess_dim\u001b[0m\u001b[1;33m=\u001b[0m\u001b[1;36m3\u001b[0m\u001b[1;33m)\u001b[0m\u001b[1;33m\u001b[0m\u001b[1;33m\u001b[0m\u001b[0m\n\u001b[1;32m----> 2\u001b[1;33m \u001b[0mmodel_dict\u001b[0m \u001b[1;33m=\u001b[0m\u001b[0mtorch\u001b[0m\u001b[1;33m.\u001b[0m\u001b[0mload\u001b[0m\u001b[1;33m(\u001b[0m\u001b[1;34m'replicated_models/sahp-retweet_hidden16-20210623-055702'\u001b[0m\u001b[1;33m,\u001b[0m\u001b[0mmap_location\u001b[0m\u001b[1;33m=\u001b[0m\u001b[0mtorch\u001b[0m\u001b[1;33m.\u001b[0m\u001b[0mdevice\u001b[0m\u001b[1;33m(\u001b[0m\u001b[1;34m'cpu'\u001b[0m\u001b[1;33m)\u001b[0m\u001b[1;33m)\u001b[0m\u001b[1;33m\u001b[0m\u001b[1;33m\u001b[0m\u001b[0m\n\u001b[0m\u001b[0;32m      3\u001b[0m \u001b[0mmodel\u001b[0m\u001b[1;33m.\u001b[0m\u001b[0mload_state_dict\u001b[0m\u001b[1;33m(\u001b[0m\u001b[0mmodel_dict\u001b[0m\u001b[1;33m)\u001b[0m\u001b[1;33m\u001b[0m\u001b[1;33m\u001b[0m\u001b[0m\n\u001b[0;32m      4\u001b[0m \u001b[1;33m\u001b[0m\u001b[0m\n\u001b[0;32m      5\u001b[0m \u001b[0mtorch\u001b[0m\u001b[1;33m.\u001b[0m\u001b[0mmanual_seed\u001b[0m\u001b[1;33m(\u001b[0m\u001b[1;36m42\u001b[0m\u001b[1;33m)\u001b[0m\u001b[1;33m\u001b[0m\u001b[1;33m\u001b[0m\u001b[0m\n",
      "\u001b[1;32m~\\Anaconda3\\lib\\site-packages\\torch\\serialization.py\u001b[0m in \u001b[0;36mload\u001b[1;34m(f, map_location, pickle_module, **pickle_load_args)\u001b[0m\n\u001b[0;32m    592\u001b[0m         \u001b[0mpickle_load_args\u001b[0m\u001b[1;33m[\u001b[0m\u001b[1;34m'encoding'\u001b[0m\u001b[1;33m]\u001b[0m \u001b[1;33m=\u001b[0m \u001b[1;34m'utf-8'\u001b[0m\u001b[1;33m\u001b[0m\u001b[1;33m\u001b[0m\u001b[0m\n\u001b[0;32m    593\u001b[0m \u001b[1;33m\u001b[0m\u001b[0m\n\u001b[1;32m--> 594\u001b[1;33m     \u001b[1;32mwith\u001b[0m \u001b[0m_open_file_like\u001b[0m\u001b[1;33m(\u001b[0m\u001b[0mf\u001b[0m\u001b[1;33m,\u001b[0m \u001b[1;34m'rb'\u001b[0m\u001b[1;33m)\u001b[0m \u001b[1;32mas\u001b[0m \u001b[0mopened_file\u001b[0m\u001b[1;33m:\u001b[0m\u001b[1;33m\u001b[0m\u001b[1;33m\u001b[0m\u001b[0m\n\u001b[0m\u001b[0;32m    595\u001b[0m         \u001b[1;32mif\u001b[0m \u001b[0m_is_zipfile\u001b[0m\u001b[1;33m(\u001b[0m\u001b[0mopened_file\u001b[0m\u001b[1;33m)\u001b[0m\u001b[1;33m:\u001b[0m\u001b[1;33m\u001b[0m\u001b[1;33m\u001b[0m\u001b[0m\n\u001b[0;32m    596\u001b[0m             \u001b[1;31m# The zipfile reader is going to advance the current file position.\u001b[0m\u001b[1;33m\u001b[0m\u001b[1;33m\u001b[0m\u001b[1;33m\u001b[0m\u001b[0m\n",
      "\u001b[1;32m~\\Anaconda3\\lib\\site-packages\\torch\\serialization.py\u001b[0m in \u001b[0;36m_open_file_like\u001b[1;34m(name_or_buffer, mode)\u001b[0m\n\u001b[0;32m    228\u001b[0m \u001b[1;32mdef\u001b[0m \u001b[0m_open_file_like\u001b[0m\u001b[1;33m(\u001b[0m\u001b[0mname_or_buffer\u001b[0m\u001b[1;33m,\u001b[0m \u001b[0mmode\u001b[0m\u001b[1;33m)\u001b[0m\u001b[1;33m:\u001b[0m\u001b[1;33m\u001b[0m\u001b[1;33m\u001b[0m\u001b[0m\n\u001b[0;32m    229\u001b[0m     \u001b[1;32mif\u001b[0m \u001b[0m_is_path\u001b[0m\u001b[1;33m(\u001b[0m\u001b[0mname_or_buffer\u001b[0m\u001b[1;33m)\u001b[0m\u001b[1;33m:\u001b[0m\u001b[1;33m\u001b[0m\u001b[1;33m\u001b[0m\u001b[0m\n\u001b[1;32m--> 230\u001b[1;33m         \u001b[1;32mreturn\u001b[0m \u001b[0m_open_file\u001b[0m\u001b[1;33m(\u001b[0m\u001b[0mname_or_buffer\u001b[0m\u001b[1;33m,\u001b[0m \u001b[0mmode\u001b[0m\u001b[1;33m)\u001b[0m\u001b[1;33m\u001b[0m\u001b[1;33m\u001b[0m\u001b[0m\n\u001b[0m\u001b[0;32m    231\u001b[0m     \u001b[1;32melse\u001b[0m\u001b[1;33m:\u001b[0m\u001b[1;33m\u001b[0m\u001b[1;33m\u001b[0m\u001b[0m\n\u001b[0;32m    232\u001b[0m         \u001b[1;32mif\u001b[0m \u001b[1;34m'w'\u001b[0m \u001b[1;32min\u001b[0m \u001b[0mmode\u001b[0m\u001b[1;33m:\u001b[0m\u001b[1;33m\u001b[0m\u001b[1;33m\u001b[0m\u001b[0m\n",
      "\u001b[1;32m~\\Anaconda3\\lib\\site-packages\\torch\\serialization.py\u001b[0m in \u001b[0;36m__init__\u001b[1;34m(self, name, mode)\u001b[0m\n\u001b[0;32m    209\u001b[0m \u001b[1;32mclass\u001b[0m \u001b[0m_open_file\u001b[0m\u001b[1;33m(\u001b[0m\u001b[0m_opener\u001b[0m\u001b[1;33m)\u001b[0m\u001b[1;33m:\u001b[0m\u001b[1;33m\u001b[0m\u001b[1;33m\u001b[0m\u001b[0m\n\u001b[0;32m    210\u001b[0m     \u001b[1;32mdef\u001b[0m \u001b[0m__init__\u001b[0m\u001b[1;33m(\u001b[0m\u001b[0mself\u001b[0m\u001b[1;33m,\u001b[0m \u001b[0mname\u001b[0m\u001b[1;33m,\u001b[0m \u001b[0mmode\u001b[0m\u001b[1;33m)\u001b[0m\u001b[1;33m:\u001b[0m\u001b[1;33m\u001b[0m\u001b[1;33m\u001b[0m\u001b[0m\n\u001b[1;32m--> 211\u001b[1;33m         \u001b[0msuper\u001b[0m\u001b[1;33m(\u001b[0m\u001b[0m_open_file\u001b[0m\u001b[1;33m,\u001b[0m \u001b[0mself\u001b[0m\u001b[1;33m)\u001b[0m\u001b[1;33m.\u001b[0m\u001b[0m__init__\u001b[0m\u001b[1;33m(\u001b[0m\u001b[0mopen\u001b[0m\u001b[1;33m(\u001b[0m\u001b[0mname\u001b[0m\u001b[1;33m,\u001b[0m \u001b[0mmode\u001b[0m\u001b[1;33m)\u001b[0m\u001b[1;33m)\u001b[0m\u001b[1;33m\u001b[0m\u001b[1;33m\u001b[0m\u001b[0m\n\u001b[0m\u001b[0;32m    212\u001b[0m \u001b[1;33m\u001b[0m\u001b[0m\n\u001b[0;32m    213\u001b[0m     \u001b[1;32mdef\u001b[0m \u001b[0m__exit__\u001b[0m\u001b[1;33m(\u001b[0m\u001b[0mself\u001b[0m\u001b[1;33m,\u001b[0m \u001b[1;33m*\u001b[0m\u001b[0margs\u001b[0m\u001b[1;33m)\u001b[0m\u001b[1;33m:\u001b[0m\u001b[1;33m\u001b[0m\u001b[1;33m\u001b[0m\u001b[0m\n",
      "\u001b[1;31mFileNotFoundError\u001b[0m: [Errno 2] No such file or directory: 'replicated_models/sahp-retweet_hidden16-20210623-055702'"
     ]
    }
   ],
   "source": [
    "model = train_sahp.make_model(max_sequence_length=max_sequence_length+1, process_dim=3)\n",
    "model_dict =torch.load('replicated_models/sahp-retweet_hidden16-20210623-055702',map_location=torch.device('cpu'))\n",
    "model.load_state_dict(model_dict)\n",
    "\n",
    "torch.manual_seed(42)\n",
    "batch_size = 32\n",
    "test_size = test_seq_times.size(0)\n",
    "device = 'cpu'\n",
    "test_loop_range = list(range(0, test_size, batch_size))\n"
   ]
  },
  {
   "cell_type": "code",
   "execution_count": 215,
   "metadata": {
    "ExecuteTime": {
     "end_time": "2021-10-14T02:55:13.604796Z",
     "start_time": "2021-10-14T02:55:06.420326Z"
    }
   },
   "outputs": [
    {
     "name": "stderr",
     "output_type": "stream",
     "text": [
      "100%|████████████████████████████████████████| 400/400 [00:06<00:00, 58.48it/s]\n"
     ]
    },
    {
     "name": "stdout",
     "output_type": "stream",
     "text": [
      "rmse 2.4303113130436818\n",
      "Type prediction score: 0.2825\n",
      "tensor(0.0201)\n"
     ]
    }
   ],
   "source": [
    "\n",
    "## Get test Loss\n",
    "test_event_num, epoch_test_loss = eval_sahp(batch_size, [1,2], test_seq_lengths, test_seq_times,\n",
    "                                            test_seq_types, model, device, 0)\n",
    "\n",
    "test_loss = epoch_test_loss/test_event_num\n",
    "\n"
   ]
  },
  {
   "cell_type": "code",
   "execution_count": 59,
   "metadata": {
    "ExecuteTime": {
     "end_time": "2021-06-23T22:27:37.599244Z",
     "start_time": "2021-06-23T22:27:37.584277Z"
    }
   },
   "outputs": [
    {
     "data": {
      "text/plain": [
       "234.04366"
      ]
     },
     "execution_count": 59,
     "metadata": {},
     "output_type": "execute_result"
    }
   ],
   "source": [
    "np.sqrt(np.mean(incr_errors[keep_indices]))"
   ]
  },
  {
   "cell_type": "markdown",
   "metadata": {},
   "source": [
    "### Training"
   ]
  },
  {
   "cell_type": "code",
   "execution_count": 50,
   "metadata": {
    "ExecuteTime": {
     "end_time": "2021-07-28T03:51:48.073185Z",
     "start_time": "2021-07-28T03:51:47.915135Z"
    }
   },
   "outputs": [
    {
     "name": "stdout",
     "output_type": "stream",
     "text": [
      "Total sample size: 4000\n",
      "Train sample size: 3200/4000\n",
      "Dev sample size: 400/4000\n",
      "No. of event tokens in training subset: tensor(498611)\n",
      "No. of event tokens in development subset: tensor(63349)\n",
      "No. of event tokens in test subset: tensor(61657)\n",
      "max_sequence_length: 323\n",
      "the number of trainable parameters: 4186\n"
     ]
    },
    {
     "data": {
      "text/plain": [
       "SAHP(\n",
       "  (gelu): GELU()\n",
       "  (type_emb): TypeEmbedding(3, 16, padding_idx=2)\n",
       "  (position_emb): BiasedPositionalEmbedding(\n",
       "    (Wt): Linear(in_features=1, out_features=8, bias=False)\n",
       "  )\n",
       "  (attention): MultiHeadedAttention(\n",
       "    (linear_layers): ModuleList(\n",
       "      (0): Linear(in_features=16, out_features=16, bias=True)\n",
       "      (1): Linear(in_features=16, out_features=16, bias=True)\n",
       "      (2): Linear(in_features=16, out_features=16, bias=True)\n",
       "    )\n",
       "    (output_linear): Linear(in_features=16, out_features=16, bias=True)\n",
       "    (attention): Attention()\n",
       "    (dropout): Dropout(p=0.1, inplace=False)\n",
       "  )\n",
       "  (feed_forward): PositionwiseFeedForward(\n",
       "    (w_1): Linear(in_features=16, out_features=64, bias=True)\n",
       "    (w_2): Linear(in_features=64, out_features=16, bias=True)\n",
       "    (dropout): Dropout(p=0.1, inplace=False)\n",
       "    (activation): GELU()\n",
       "  )\n",
       "  (input_sublayer): SublayerConnection(\n",
       "    (norm): LayerNorm()\n",
       "    (dropout): Dropout(p=0.1, inplace=False)\n",
       "  )\n",
       "  (output_sublayer): SublayerConnection(\n",
       "    (norm): LayerNorm()\n",
       "    (dropout): Dropout(p=0.1, inplace=False)\n",
       "  )\n",
       "  (dropout): Dropout(p=0.1, inplace=False)\n",
       "  (start_layer): Sequential(\n",
       "    (0): Linear(in_features=16, out_features=16, bias=True)\n",
       "    (1): GELU()\n",
       "  )\n",
       "  (converge_layer): Sequential(\n",
       "    (0): Linear(in_features=16, out_features=16, bias=True)\n",
       "    (1): GELU()\n",
       "  )\n",
       "  (decay_layer): Sequential(\n",
       "    (0): Linear(in_features=16, out_features=16, bias=True)\n",
       "    (1): Softplus(beta=10.0, threshold=20)\n",
       "  )\n",
       "  (intensity_layer): Sequential(\n",
       "    (0): Linear(in_features=16, out_features=2, bias=True)\n",
       "    (1): Softplus(beta=1.0, threshold=20)\n",
       "  )\n",
       ")"
      ]
     },
     "execution_count": 50,
     "metadata": {},
     "output_type": "execute_result"
    }
   ],
   "source": [
    "process_dim = 2\n",
    "device = 'cpu'\n",
    "train_ratio = 0.8\n",
    "lr = 5e-5\n",
    "batch_size = 32\n",
    "\n",
    "\n",
    "torch.manual_seed(42)\n",
    "random.seed(42)\n",
    "np.random.seed(42)\n",
    "\n",
    "\n",
    "with open('data/simulated/hawkes_synthetic_random_2d_20191130-180837.pkl', 'rb') as f:\n",
    "    loaded_hawkes_data = pickle.load(f)\n",
    "    \n",
    "process_dim = loaded_hawkes_data['process_dim'] if 'process_dim' in loaded_hawkes_data.keys() else process_dim\n",
    "\n",
    "seq_times, seq_types, seq_lengths, _ = process_loaded_sequences(loaded_hawkes_data, process_dim)\n",
    "\n",
    "seq_times = seq_times.to(device)\n",
    "seq_types = seq_types.to(device)\n",
    "seq_lengths = seq_lengths.to(device)\n",
    "\n",
    "total_sample_size = seq_times.size(0)\n",
    "print(\"Total sample size: {}\".format(total_sample_size))\n",
    "\n",
    "train_size = int(train_ratio * total_sample_size)\n",
    "dev_ratio = 0.1\n",
    "dev_size = int(dev_ratio * total_sample_size)\n",
    "print(\"Train sample size: {:}/{:}\".format(train_size, total_sample_size))\n",
    "print(\"Dev sample size: {:}/{:}\".format(dev_size, total_sample_size))\n",
    "\n",
    "# Define training data\n",
    "train_seq_times = seq_times[:train_size]\n",
    "train_seq_types = seq_types[:train_size]\n",
    "train_seq_lengths = seq_lengths[:train_size]\n",
    "print(\"No. of event tokens in training subset:\", train_seq_lengths.sum())\n",
    "\n",
    "# Define development data\n",
    "dev_seq_times = seq_times[train_size:train_size + dev_size]  # train_size+dev_size\n",
    "dev_seq_types = seq_types[train_size:train_size + dev_size]\n",
    "dev_seq_lengths = seq_lengths[train_size:train_size + dev_size]\n",
    "print(\"No. of event tokens in development subset:\", dev_seq_lengths.sum())\n",
    "\n",
    "test_seq_times = seq_times[-dev_size:]\n",
    "test_seq_types = seq_types[-dev_size:]\n",
    "test_seq_lengths = seq_lengths[-dev_size:]\n",
    "\n",
    "print(\"No. of event tokens in test subset:\", test_seq_lengths.sum())\n",
    "\n",
    "## sequence length\n",
    "train_seq_lengths, reorder_indices_train = train_seq_lengths.sort(descending=True)\n",
    "# # Reorder by descending sequence length\n",
    "train_seq_times = train_seq_times[reorder_indices_train]\n",
    "train_seq_types = train_seq_types[reorder_indices_train]\n",
    "#\n",
    "dev_seq_lengths, reorder_indices_dev = dev_seq_lengths.sort(descending=True)\n",
    "# # Reorder by descending sequence length\n",
    "dev_seq_times = dev_seq_times[reorder_indices_dev]\n",
    "dev_seq_types = dev_seq_types[reorder_indices_dev]\n",
    "\n",
    "test_seq_lengths, reorder_indices_test = test_seq_lengths.sort(descending=True)\n",
    "# # Reorder by descending sequence length\n",
    "test_seq_times = test_seq_times[reorder_indices_test]\n",
    "test_seq_types = test_seq_types[reorder_indices_test]\n",
    "\n",
    "max_sequence_length = max(train_seq_lengths[0], dev_seq_lengths[0], test_seq_lengths[0])\n",
    "print('max_sequence_length: {}'.format(max_sequence_length))\n",
    "\n",
    "\n",
    "d_model = 16\n",
    "atten_heads = 1\n",
    "dropout = 0.1\n",
    "\n",
    "model = make_model(nLayers=1, d_model=d_model, atten_heads=atten_heads,\n",
    "                   dropout=dropout, process_dim=process_dim, device=device, pe='add',\n",
    "                   max_sequence_length=max_sequence_length + 1).to(device)\n",
    "\n",
    "print(\"the number of trainable parameters: \" + str(count_parameters(model)))\n",
    "\n",
    "\n",
    "optimizer = optim.Adam(model.parameters(), lr=lr, betas=(0.9, 0.98), eps=1e-9, weight_decay=3e-4)\n",
    "model_opt = NoamOpt(d_model, 1, 100, initial_lr=lr, optimizer=optimizer)\n",
    "\n",
    "\n",
    "## Size of the traing dataset\n",
    "train_size = train_seq_times.size(0)\n",
    "dev_size = dev_seq_times.size(0)\n",
    "test_size = test_seq_times.size(0)\n",
    "tr_loop_range = list(range(0, train_size, batch_size))\n",
    "de_loop_range = list(range(0, dev_size, batch_size))\n",
    "test_loop_range = list(range(0, test_size, batch_size))\n",
    "\n",
    "last_dev_loss = 0.0\n",
    "early_step = 0\n",
    "\n",
    "random_seeds = list(range(0, 1000))\n",
    "random.shuffle(random_seeds)\n",
    "\n",
    "model.train()\n"
   ]
  },
  {
   "cell_type": "code",
   "execution_count": 88,
   "metadata": {
    "ExecuteTime": {
     "end_time": "2021-07-28T04:03:13.623046Z",
     "start_time": "2021-07-28T04:03:13.523347Z"
    }
   },
   "outputs": [],
   "source": [
    "i_batch = 0\n",
    "model_opt.optimizer.zero_grad()\n",
    "\n",
    "batch_onehot, batch_seq_times, batch_dt, batch_seq_types, _, _, _, batch_seq_lengths = \\\n",
    "    get_batch(batch_size, i_batch, model, train_seq_lengths, train_seq_times, train_seq_types,\n",
    "                   rnn=False)\n",
    "\n",
    "batch_seq_types = batch_seq_types[:, 1:]\n",
    "\n",
    "masked_seq_types = MaskBatch(batch_seq_types, pad=model.process_dim,\n",
    "                             device=device)  # exclude the first added even\n",
    "model.forward(batch_dt, masked_seq_types.src, masked_seq_types.src_mask)\n",
    "# nll = model.compute_loss(batch_seq_times, batch_onehot)"
   ]
  },
  {
   "cell_type": "code",
   "execution_count": 181,
   "metadata": {
    "ExecuteTime": {
     "end_time": "2021-07-28T04:22:55.043265Z",
     "start_time": "2021-07-28T04:22:55.020327Z"
    }
   },
   "outputs": [],
   "source": [
    "### Loss Function\n",
    "def compute_loss(model,seq_times,seq_onehot_types,n_mc_samples = 20):\n",
    "    dt_seq = seq_times[:, 1:] - seq_times[:, :-1]\n",
    "    cell_t = model.state_decay(model.converge_point, model.start_point, model.omega, dt_seq[:, :, None])\n",
    "\n",
    "    n_batch = seq_times.size(0)\n",
    "    n_times = seq_times.size(1) - 1\n",
    "    device = dt_seq.device\n",
    "    # Get the intensity process\n",
    "    intens_at_evs = model.intensity_layer(cell_t)\n",
    "    \n",
    "    \n",
    "    log_intensities = intens_at_evs.log()  # log intensities\n",
    "    log_intensities =  log_intensities*seq_onehot_types[:, 1:, :].sum(dim=-1).unsqueeze(-1)\n",
    "    \n",
    "    \n",
    "    \n",
    "    seq_mask = seq_onehot_types[:, 1:]\n",
    "    log_sum = (log_intensities * seq_mask).sum(dim=(2, 1)) \n",
    "    \n",
    "    \n",
    "    taus = torch.rand(n_batch, n_times, 1, n_mc_samples).to(device) \n",
    "    taus = dt_seq[:, :, None, None] * taus \n",
    "    \n",
    "    \n",
    "    cell_tau = model.state_decay(\n",
    "    model.converge_point[:, :, :, None],\n",
    "    model.start_point[:, :, :, None],\n",
    "    model.omega[:, :, :, None],\n",
    "    taus)\n",
    "    \n",
    "    cell_tau = cell_tau.transpose(2, 3)\n",
    "    intens_at_samples = model.intensity_layer(cell_tau).transpose(2, 3)\n",
    "    intens_at_samples = intens_at_samples*seq_onehot_types[:, 1:, :].sum(dim=-1).unsqueeze(-1).unsqueeze(-1)\n",
    "    \n",
    "    \n",
    "    total_intens_samples = intens_at_samples.sum(dim=2)  # shape batch * N * MC\n",
    "    partial_integrals = dt_seq * total_intens_samples.mean(dim=2)\n",
    "\n",
    "    integral_ = partial_integrals.sum(dim=1)\n",
    "\n",
    "    res = torch.sum(- log_sum + integral_)\n",
    "    \n",
    "    \n",
    "    return res"
   ]
  },
  {
   "cell_type": "markdown",
   "metadata": {},
   "source": [
    "## Training Other 2-D Samples"
   ]
  },
  {
   "cell_type": "code",
   "execution_count": 184,
   "metadata": {
    "ExecuteTime": {
     "end_time": "2021-07-28T04:26:54.485162Z",
     "start_time": "2021-07-28T04:26:54.429348Z"
    }
   },
   "outputs": [],
   "source": [
    "process_dim = 2\n",
    "device = 'cpu'\n",
    "train_ratio = 0.8\n",
    "lr = 5e-5\n",
    "batch_size = 32\n",
    "\n",
    "\n",
    "torch.manual_seed(42)\n",
    "random.seed(42)\n",
    "np.random.seed(42)\n",
    "\n",
    "\n",
    "with open('data/simulated/hawkes_2d.pkl', 'rb') as f:\n",
    "    loaded_hawkes_data = pickle.load(f)"
   ]
  },
  {
   "cell_type": "code",
   "execution_count": 185,
   "metadata": {
    "ExecuteTime": {
     "end_time": "2021-07-28T04:27:03.049518Z",
     "start_time": "2021-07-28T04:27:03.044531Z"
    }
   },
   "outputs": [],
   "source": [
    "process_dim = loaded_hawkes_data['process_dim'] if 'process_dim' in loaded_hawkes_data.keys() else process_dim\n"
   ]
  },
  {
   "cell_type": "code",
   "execution_count": 186,
   "metadata": {
    "ExecuteTime": {
     "end_time": "2021-07-28T04:27:06.097620Z",
     "start_time": "2021-07-28T04:27:06.090606Z"
    }
   },
   "outputs": [
    {
     "data": {
      "text/plain": [
       "1"
      ]
     },
     "execution_count": 186,
     "metadata": {},
     "output_type": "execute_result"
    }
   ],
   "source": [
    "process_dim"
   ]
  },
  {
   "cell_type": "code",
   "execution_count": null,
   "metadata": {},
   "outputs": [],
   "source": []
  }
 ],
 "metadata": {
  "kernelspec": {
   "display_name": "Python 3",
   "language": "python",
   "name": "python3"
  },
  "language_info": {
   "codemirror_mode": {
    "name": "ipython",
    "version": 3
   },
   "file_extension": ".py",
   "mimetype": "text/x-python",
   "name": "python",
   "nbconvert_exporter": "python",
   "pygments_lexer": "ipython3",
   "version": "3.7.4"
  },
  "latex_envs": {
   "LaTeX_envs_menu_present": true,
   "autoclose": false,
   "autocomplete": true,
   "bibliofile": "biblio.bib",
   "cite_by": "apalike",
   "current_citInitial": 1,
   "eqLabelWithNumbers": true,
   "eqNumInitial": 1,
   "hotkeys": {
    "equation": "Ctrl-E",
    "itemize": "Ctrl-I"
   },
   "labels_anchors": false,
   "latex_user_defs": false,
   "report_style_numbering": false,
   "user_envs_cfg": false
  },
  "toc": {
   "base_numbering": 1,
   "nav_menu": {},
   "number_sections": true,
   "sideBar": true,
   "skip_h1_title": false,
   "title_cell": "Table of Contents",
   "title_sidebar": "Contents",
   "toc_cell": false,
   "toc_position": {},
   "toc_section_display": true,
   "toc_window_display": false
  }
 },
 "nbformat": 4,
 "nbformat_minor": 4
}
